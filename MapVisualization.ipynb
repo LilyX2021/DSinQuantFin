{
 "cells": [
  {
   "cell_type": "markdown",
   "metadata": {},
   "source": [
    "# Assignment 1"
   ]
  },
  {
   "cell_type": "markdown",
   "metadata": {},
   "source": [
    "Lihua Xiong, lx559"
   ]
  },
  {
   "cell_type": "markdown",
   "metadata": {},
   "source": [
    "## Part I: Plotting data with FIPS codes"
   ]
  },
  {
   "cell_type": "markdown",
   "metadata": {},
   "source": [
    "** First, load and process data.**"
   ]
  },
  {
   "cell_type": "code",
   "execution_count": 1,
   "metadata": {
    "collapsed": true
   },
   "outputs": [],
   "source": [
    "import pandas as pd"
   ]
  },
  {
   "cell_type": "code",
   "execution_count": 2,
   "metadata": {
    "collapsed": true
   },
   "outputs": [],
   "source": [
    "# Note: read in as str.\n",
    "data = pd.read_csv('national_county.txt', sep=\",\", header=None, dtype=str)\n",
    "data.columns = [\"STATE\", \"STATEFP\", \"COUNTYFP\", \"COUNTYNAME\",\"CLASSFP\"]"
   ]
  },
  {
   "cell_type": "markdown",
   "metadata": {},
   "source": [
    "**Note:** \n",
    "If the FIPS is not converted to int, the following graph would be mismatched with the dataset.\n"
   ]
  },
  {
   "cell_type": "code",
   "execution_count": 3,
   "metadata": {
    "collapsed": true
   },
   "outputs": [],
   "source": [
    "data['FIPS'] = pd.to_numeric(data['STATEFP']+data['COUNTYFP'],\\\n",
    "                             downcast='integer')"
   ]
  },
  {
   "cell_type": "code",
   "execution_count": 4,
   "metadata": {
    "collapsed": true
   },
   "outputs": [],
   "source": [
    "dummy = pd.get_dummies(data['STATE'])\n",
    "data['DUMMY'] = dummy['NY']"
   ]
  },
  {
   "cell_type": "code",
   "execution_count": 5,
   "metadata": {},
   "outputs": [
    {
     "data": {
      "text/html": [
       "<div>\n",
       "<style>\n",
       "    .dataframe thead tr:only-child th {\n",
       "        text-align: right;\n",
       "    }\n",
       "\n",
       "    .dataframe thead th {\n",
       "        text-align: left;\n",
       "    }\n",
       "\n",
       "    .dataframe tbody tr th {\n",
       "        vertical-align: top;\n",
       "    }\n",
       "</style>\n",
       "<table border=\"1\" class=\"dataframe\">\n",
       "  <thead>\n",
       "    <tr style=\"text-align: right;\">\n",
       "      <th></th>\n",
       "      <th>STATE</th>\n",
       "      <th>STATEFP</th>\n",
       "      <th>COUNTYFP</th>\n",
       "      <th>COUNTYNAME</th>\n",
       "      <th>CLASSFP</th>\n",
       "      <th>FIPS</th>\n",
       "      <th>DUMMY</th>\n",
       "    </tr>\n",
       "  </thead>\n",
       "  <tbody>\n",
       "    <tr>\n",
       "      <th>0</th>\n",
       "      <td>AL</td>\n",
       "      <td>01</td>\n",
       "      <td>001</td>\n",
       "      <td>Autauga County</td>\n",
       "      <td>H1</td>\n",
       "      <td>1001</td>\n",
       "      <td>0</td>\n",
       "    </tr>\n",
       "    <tr>\n",
       "      <th>1</th>\n",
       "      <td>AL</td>\n",
       "      <td>01</td>\n",
       "      <td>003</td>\n",
       "      <td>Baldwin County</td>\n",
       "      <td>H1</td>\n",
       "      <td>1003</td>\n",
       "      <td>0</td>\n",
       "    </tr>\n",
       "    <tr>\n",
       "      <th>2</th>\n",
       "      <td>AL</td>\n",
       "      <td>01</td>\n",
       "      <td>005</td>\n",
       "      <td>Barbour County</td>\n",
       "      <td>H1</td>\n",
       "      <td>1005</td>\n",
       "      <td>0</td>\n",
       "    </tr>\n",
       "    <tr>\n",
       "      <th>3</th>\n",
       "      <td>AL</td>\n",
       "      <td>01</td>\n",
       "      <td>007</td>\n",
       "      <td>Bibb County</td>\n",
       "      <td>H1</td>\n",
       "      <td>1007</td>\n",
       "      <td>0</td>\n",
       "    </tr>\n",
       "    <tr>\n",
       "      <th>4</th>\n",
       "      <td>AL</td>\n",
       "      <td>01</td>\n",
       "      <td>009</td>\n",
       "      <td>Blount County</td>\n",
       "      <td>H1</td>\n",
       "      <td>1009</td>\n",
       "      <td>0</td>\n",
       "    </tr>\n",
       "  </tbody>\n",
       "</table>\n",
       "</div>"
      ],
      "text/plain": [
       "  STATE STATEFP COUNTYFP      COUNTYNAME CLASSFP  FIPS  DUMMY\n",
       "0    AL      01      001  Autauga County      H1  1001      0\n",
       "1    AL      01      003  Baldwin County      H1  1003      0\n",
       "2    AL      01      005  Barbour County      H1  1005      0\n",
       "3    AL      01      007     Bibb County      H1  1007      0\n",
       "4    AL      01      009   Blount County      H1  1009      0"
      ]
     },
     "execution_count": 5,
     "metadata": {},
     "output_type": "execute_result"
    }
   ],
   "source": [
    "data.head()"
   ]
  },
  {
   "cell_type": "markdown",
   "metadata": {},
   "source": [
    "** Second, instantiate a US county map and visualize the data above.**"
   ]
  },
  {
   "cell_type": "code",
   "execution_count": 6,
   "metadata": {
    "collapsed": true
   },
   "outputs": [],
   "source": [
    "from bqplot import *\n",
    "from bqplot import pyplot as plt"
   ]
  },
  {
   "cell_type": "code",
   "execution_count": 7,
   "metadata": {},
   "outputs": [
    {
     "data": {
      "application/vnd.jupyter.widget-view+json": {
       "model_id": "612b6b2f48fb4a329b5df6d410758151"
      }
     },
     "metadata": {},
     "output_type": "display_data"
    }
   ],
   "source": [
    "map_fig = plt.figure(title='Visulisation NY using State-County FIPS data',\\\n",
    "                     min_width=1300, min_height=800)\n",
    "map_tt = Tooltip(fields=['name','color'], labels=['County Name', 'DUMMY'])\n",
    "\n",
    "# Note: OrdinalColorScale is used for dummy.\n",
    "map_res = plt.geo(map_data=topo_load('map_data/USCountiesMap.json'), stroke_color='black',\\\n",
    "                  colors={'default_color': 'Gray'},\\\n",
    "                  scales={'projection': AlbersUSA(),\\\n",
    "                         'color': OrdinalColorScale(domain=['Non-NY', 'NY'], colors=['#E91D0E','#2aa1ec'])},\\\n",
    "                  color=dict(zip(data['FIPS'], data['DUMMY'])), tooltip=map_tt)\n",
    "map_fig"
   ]
  },
  {
   "cell_type": "markdown",
   "metadata": {},
   "source": [
    "## Part II: Analyzing the HMDA dataset at county level"
   ]
  },
  {
   "cell_type": "markdown",
   "metadata": {
    "collapsed": true
   },
   "source": [
    "**Q1:** How many loans in each 'action_taken_name' category are there?"
   ]
  },
  {
   "cell_type": "code",
   "execution_count": 12,
   "metadata": {},
   "outputs": [],
   "source": [
    "# Only read the first two cols for efficiency.\n",
    "HMDA = pd.read_csv('hmda_lar-2012.csv', dtype=object, usecols=[0,1])"
   ]
  },
  {
   "cell_type": "code",
   "execution_count": 13,
   "metadata": {},
   "outputs": [
    {
     "data": {
      "text/html": [
       "<div>\n",
       "<style>\n",
       "    .dataframe thead tr:only-child th {\n",
       "        text-align: right;\n",
       "    }\n",
       "\n",
       "    .dataframe thead th {\n",
       "        text-align: left;\n",
       "    }\n",
       "\n",
       "    .dataframe tbody tr th {\n",
       "        vertical-align: top;\n",
       "    }\n",
       "</style>\n",
       "<table border=\"1\" class=\"dataframe\">\n",
       "  <thead>\n",
       "    <tr style=\"text-align: right;\">\n",
       "      <th></th>\n",
       "      <th>action_taken</th>\n",
       "      <th>action_taken_name</th>\n",
       "    </tr>\n",
       "  </thead>\n",
       "  <tbody>\n",
       "    <tr>\n",
       "      <th>0</th>\n",
       "      <td>1</td>\n",
       "      <td>Loan originated</td>\n",
       "    </tr>\n",
       "    <tr>\n",
       "      <th>1</th>\n",
       "      <td>1</td>\n",
       "      <td>Loan originated</td>\n",
       "    </tr>\n",
       "    <tr>\n",
       "      <th>2</th>\n",
       "      <td>6</td>\n",
       "      <td>Loan purchased by the institution</td>\n",
       "    </tr>\n",
       "    <tr>\n",
       "      <th>3</th>\n",
       "      <td>6</td>\n",
       "      <td>Loan purchased by the institution</td>\n",
       "    </tr>\n",
       "    <tr>\n",
       "      <th>4</th>\n",
       "      <td>1</td>\n",
       "      <td>Loan originated</td>\n",
       "    </tr>\n",
       "  </tbody>\n",
       "</table>\n",
       "</div>"
      ],
      "text/plain": [
       "  action_taken                  action_taken_name\n",
       "0            1                    Loan originated\n",
       "1            1                    Loan originated\n",
       "2            6  Loan purchased by the institution\n",
       "3            6  Loan purchased by the institution\n",
       "4            1                    Loan originated"
      ]
     },
     "execution_count": 13,
     "metadata": {},
     "output_type": "execute_result"
    }
   ],
   "source": [
    "HMDA.head()"
   ]
  },
  {
   "cell_type": "code",
   "execution_count": 22,
   "metadata": {},
   "outputs": [
    {
     "data": {
      "text/html": [
       "<div>\n",
       "<style>\n",
       "    .dataframe thead tr:only-child th {\n",
       "        text-align: right;\n",
       "    }\n",
       "\n",
       "    .dataframe thead th {\n",
       "        text-align: left;\n",
       "    }\n",
       "\n",
       "    .dataframe tbody tr th {\n",
       "        vertical-align: top;\n",
       "    }\n",
       "</style>\n",
       "<table border=\"1\" class=\"dataframe\">\n",
       "  <thead>\n",
       "    <tr style=\"text-align: right;\">\n",
       "      <th></th>\n",
       "      <th>num_of_loans</th>\n",
       "    </tr>\n",
       "    <tr>\n",
       "      <th>action_taken_name</th>\n",
       "      <th></th>\n",
       "    </tr>\n",
       "  </thead>\n",
       "  <tbody>\n",
       "    <tr>\n",
       "      <th>Application approved but not accepted</th>\n",
       "      <td>710706</td>\n",
       "    </tr>\n",
       "    <tr>\n",
       "      <th>Application denied by financial institution</th>\n",
       "      <td>2761964</td>\n",
       "    </tr>\n",
       "    <tr>\n",
       "      <th>Application withdrawn by applicant</th>\n",
       "      <td>1529647</td>\n",
       "    </tr>\n",
       "    <tr>\n",
       "      <th>File closed for incompleteness</th>\n",
       "      <td>524369</td>\n",
       "    </tr>\n",
       "    <tr>\n",
       "      <th>Loan originated</th>\n",
       "      <td>9783966</td>\n",
       "    </tr>\n",
       "    <tr>\n",
       "      <th>Loan purchased by the institution</th>\n",
       "      <td>3167577</td>\n",
       "    </tr>\n",
       "    <tr>\n",
       "      <th>Preapproval request approved but not accepted</th>\n",
       "      <td>64589</td>\n",
       "    </tr>\n",
       "    <tr>\n",
       "      <th>Preapproval request denied by financial institution</th>\n",
       "      <td>148733</td>\n",
       "    </tr>\n",
       "  </tbody>\n",
       "</table>\n",
       "</div>"
      ],
      "text/plain": [
       "                                                    num_of_loans\n",
       "action_taken_name                                               \n",
       "Application approved but not accepted                     710706\n",
       "Application denied by financial institution              2761964\n",
       "Application withdrawn by applicant                       1529647\n",
       "File closed for incompleteness                            524369\n",
       "Loan originated                                          9783966\n",
       "Loan purchased by the institution                        3167577\n",
       "Preapproval request approved but not accepted              64589\n",
       "Preapproval request denied by financial institu...        148733"
      ]
     },
     "execution_count": 22,
     "metadata": {},
     "output_type": "execute_result"
    }
   ],
   "source": [
    "result_1 = HMDA.groupby('action_taken_name')['action_taken'].count().to_frame()\n",
    "result_1.columns = ['num_of_loans']\n",
    "result_1"
   ]
  },
  {
   "cell_type": "markdown",
   "metadata": {
    "collapsed": true
   },
   "source": [
    "**Q2:** If   you   group   by   ‘agency_abbr’,   how   many   loans   in   each   ‘action_taken_name’   category\n",
    "are   there?   Construct   a   dataframe   indexed   by   ‘agency_abbr’   and   ‘action_taken_name’ and   save   it   into   a   ‘agency_action_stats.pkl’   file"
   ]
  },
  {
   "cell_type": "code",
   "execution_count": 23,
   "metadata": {},
   "outputs": [
    {
     "data": {
      "text/html": [
       "<div>\n",
       "<style>\n",
       "    .dataframe thead tr:only-child th {\n",
       "        text-align: right;\n",
       "    }\n",
       "\n",
       "    .dataframe thead th {\n",
       "        text-align: left;\n",
       "    }\n",
       "\n",
       "    .dataframe tbody tr th {\n",
       "        vertical-align: top;\n",
       "    }\n",
       "</style>\n",
       "<table border=\"1\" class=\"dataframe\">\n",
       "  <thead>\n",
       "    <tr style=\"text-align: right;\">\n",
       "      <th></th>\n",
       "      <th>action_taken</th>\n",
       "      <th>action_taken_name</th>\n",
       "      <th>agency_abbr</th>\n",
       "    </tr>\n",
       "  </thead>\n",
       "  <tbody>\n",
       "    <tr>\n",
       "      <th>0</th>\n",
       "      <td>1</td>\n",
       "      <td>Loan originated</td>\n",
       "      <td>HUD</td>\n",
       "    </tr>\n",
       "    <tr>\n",
       "      <th>1</th>\n",
       "      <td>1</td>\n",
       "      <td>Loan originated</td>\n",
       "      <td>NCUA</td>\n",
       "    </tr>\n",
       "    <tr>\n",
       "      <th>2</th>\n",
       "      <td>6</td>\n",
       "      <td>Loan purchased by the institution</td>\n",
       "      <td>CFPB</td>\n",
       "    </tr>\n",
       "    <tr>\n",
       "      <th>3</th>\n",
       "      <td>6</td>\n",
       "      <td>Loan purchased by the institution</td>\n",
       "      <td>CFPB</td>\n",
       "    </tr>\n",
       "    <tr>\n",
       "      <th>4</th>\n",
       "      <td>1</td>\n",
       "      <td>Loan originated</td>\n",
       "      <td>FDIC</td>\n",
       "    </tr>\n",
       "  </tbody>\n",
       "</table>\n",
       "</div>"
      ],
      "text/plain": [
       "  action_taken                  action_taken_name agency_abbr\n",
       "0            1                    Loan originated         HUD\n",
       "1            1                    Loan originated        NCUA\n",
       "2            6  Loan purchased by the institution        CFPB\n",
       "3            6  Loan purchased by the institution        CFPB\n",
       "4            1                    Loan originated        FDIC"
      ]
     },
     "execution_count": 23,
     "metadata": {},
     "output_type": "execute_result"
    }
   ],
   "source": [
    "# Only read the first four cols for efficiency.\n",
    "HMDA = pd.read_csv('hmda_lar-2012.csv', dtype=object, usecols=[0,1,3])\n",
    "HMDA.head()"
   ]
  },
  {
   "cell_type": "code",
   "execution_count": 24,
   "metadata": {},
   "outputs": [
    {
     "data": {
      "text/html": [
       "<div>\n",
       "<style>\n",
       "    .dataframe thead tr:only-child th {\n",
       "        text-align: right;\n",
       "    }\n",
       "\n",
       "    .dataframe thead th {\n",
       "        text-align: left;\n",
       "    }\n",
       "\n",
       "    .dataframe tbody tr th {\n",
       "        vertical-align: top;\n",
       "    }\n",
       "</style>\n",
       "<table border=\"1\" class=\"dataframe\">\n",
       "  <thead>\n",
       "    <tr style=\"text-align: right;\">\n",
       "      <th></th>\n",
       "      <th></th>\n",
       "      <th>num_of_loans</th>\n",
       "    </tr>\n",
       "    <tr>\n",
       "      <th>agency_abbr</th>\n",
       "      <th>action_taken_name</th>\n",
       "      <th></th>\n",
       "    </tr>\n",
       "  </thead>\n",
       "  <tbody>\n",
       "    <tr>\n",
       "      <th rowspan=\"8\" valign=\"top\">CFPB</th>\n",
       "      <th>Application approved but not accepted</th>\n",
       "      <td>307922</td>\n",
       "    </tr>\n",
       "    <tr>\n",
       "      <th>Application denied by financial institution</th>\n",
       "      <td>1504528</td>\n",
       "    </tr>\n",
       "    <tr>\n",
       "      <th>Application withdrawn by applicant</th>\n",
       "      <td>482741</td>\n",
       "    </tr>\n",
       "    <tr>\n",
       "      <th>File closed for incompleteness</th>\n",
       "      <td>239245</td>\n",
       "    </tr>\n",
       "    <tr>\n",
       "      <th>Loan originated</th>\n",
       "      <td>4106978</td>\n",
       "    </tr>\n",
       "    <tr>\n",
       "      <th>Loan purchased by the institution</th>\n",
       "      <td>2652899</td>\n",
       "    </tr>\n",
       "    <tr>\n",
       "      <th>Preapproval request approved but not accepted</th>\n",
       "      <td>38915</td>\n",
       "    </tr>\n",
       "    <tr>\n",
       "      <th>Preapproval request denied by financial institution</th>\n",
       "      <td>91160</td>\n",
       "    </tr>\n",
       "    <tr>\n",
       "      <th rowspan=\"2\" valign=\"top\">FDIC</th>\n",
       "      <th>Application approved but not accepted</th>\n",
       "      <td>49036</td>\n",
       "    </tr>\n",
       "    <tr>\n",
       "      <th>Application denied by financial institution</th>\n",
       "      <td>172266</td>\n",
       "    </tr>\n",
       "  </tbody>\n",
       "</table>\n",
       "</div>"
      ],
      "text/plain": [
       "                                                                num_of_loans\n",
       "agency_abbr action_taken_name                                               \n",
       "CFPB        Application approved but not accepted                     307922\n",
       "            Application denied by financial institution              1504528\n",
       "            Application withdrawn by applicant                        482741\n",
       "            File closed for incompleteness                            239245\n",
       "            Loan originated                                          4106978\n",
       "            Loan purchased by the institution                        2652899\n",
       "            Preapproval request approved but not accepted              38915\n",
       "            Preapproval request denied by financial institu...         91160\n",
       "FDIC        Application approved but not accepted                      49036\n",
       "            Application denied by financial institution               172266"
      ]
     },
     "execution_count": 24,
     "metadata": {},
     "output_type": "execute_result"
    }
   ],
   "source": [
    "result_2 = HMDA.groupby(['agency_abbr',\\\n",
    "                         pd.Grouper(key='action_taken_name')])\\\n",
    "['action_taken'].count().to_frame()\n",
    "result_2.columns = ['num_of_loans']\n",
    "result_2.head(10)"
   ]
  },
  {
   "cell_type": "code",
   "execution_count": 25,
   "metadata": {
    "collapsed": true
   },
   "outputs": [],
   "source": [
    "result_2.to_pickle('agency_action_stats.pkl')"
   ]
  },
  {
   "cell_type": "code",
   "execution_count": 26,
   "metadata": {},
   "outputs": [
    {
     "data": {
      "text/plain": [
       "MultiIndex(levels=[['CFPB', 'FDIC', 'FRS', 'HUD', 'NCUA', 'OCC'], ['Application approved but not accepted', 'Application denied by financial institution', 'Application withdrawn by applicant', 'File closed for incompleteness', 'Loan originated', 'Loan purchased by the institution', 'Preapproval request approved but not accepted', 'Preapproval request denied by financial institution']],\n",
       "           labels=[[0, 0, 0, 0, 0, 0, 0, 0, 1, 1, 1, 1, 1, 1, 1, 1, 2, 2, 2, 2, 2, 2, 2, 2, 3, 3, 3, 3, 3, 3, 3, 3, 4, 4, 4, 4, 4, 4, 4, 4, 5, 5, 5, 5, 5, 5, 5, 5], [0, 1, 2, 3, 4, 5, 6, 7, 0, 1, 2, 3, 4, 5, 6, 7, 0, 1, 2, 3, 4, 5, 6, 7, 0, 1, 2, 3, 4, 5, 6, 7, 0, 1, 2, 3, 4, 5, 6, 7, 0, 1, 2, 3, 4, 5, 6, 7]],\n",
       "           names=['agency_abbr', 'action_taken_name'])"
      ]
     },
     "execution_count": 26,
     "metadata": {},
     "output_type": "execute_result"
    }
   ],
   "source": [
    "# The index satisfies the requirement above.\n",
    "result_2.index"
   ]
  },
  {
   "cell_type": "markdown",
   "metadata": {},
   "source": [
    "**Q3:** Construct   a   dataframe   named   df_statecnty_stats   indexed   by   the   ‘msamd’   (which   is   the   same   as the   FIPS   state-county   code)   and   containing   the   following   columns:\n",
    "- median_hud_inc   =   county   median   of   ‘hud_median_family_income’\n",
    "- median_inc   =   median   county   income   of   loan   applicants\n",
    "- mean_inc   =   mean   county   income   of   loan   applicants\n",
    "- std_inc   =   std   county   income   of   loan   applicants\n",
    "- mean_loan_to_inc   =   county   mean   loan   value   to   annual   income\n",
    "- ‘mean_income_over_hud’   =   county   mean   of   applicant   income   /\n",
    "hud_median_family_income\n",
    "- ‘pct_denied_apps’   =   percentage   of   denied   loan   applications\n",
    "- ‘pct_rentals’   =   can   you   compute   the   percent   rental   units   in   each   county?\n",
    "- ‘pct_minority’   =   percent   minority   population\n",
    "- ‘ln_pop’   =   log   of   the   county   population"
   ]
  },
  {
   "cell_type": "markdown",
   "metadata": {},
   "source": [
    "**Step 1:** \n",
    "- Initiate an empty dataframe df_statecnty_stats.\n",
    "- Construct FIPS using state_code and county_code.\n",
    "\n",
    "**Note:** \n",
    "- The 'msamd' code provided by the original data has lots of missing values. Also it's not equivalent to FIPS. Thus FIPS is first generated via state_code and county_code, then used as index."
   ]
  },
  {
   "cell_type": "code",
   "execution_count": 65,
   "metadata": {
    "collapsed": true
   },
   "outputs": [],
   "source": [
    "df_statecnty_stats = pd.DataFrame()"
   ]
  },
  {
   "cell_type": "code",
   "execution_count": 69,
   "metadata": {},
   "outputs": [],
   "source": [
    "HMDA = pd.read_csv('hmda_lar-2012.csv', dtype=object, \\\n",
    "                   usecols=['state_code','county_code'])\n",
    "FIPS = pd.to_numeric(HMDA['state_code'].str.zfill(2)+\\\n",
    "                     HMDA['county_code'].str.zfill(3),\\\n",
    "                     downcast='integer')"
   ]
  },
  {
   "cell_type": "markdown",
   "metadata": {},
   "source": [
    "**Step 2:** Calculate median_hud_inc.\n",
    "\n",
    "**Note:** \n",
    "- The 'msamd' code provided by the original data has lots of missing values. Also it's not equivalent to FIPS. Thus FIPS is first generated via state_code and county_code, then used as index.\n",
    "- For efficiency, only the columns in use are read into the HMDA dataframe.\n",
    "- I also tried reading the large csv file chunk by chunk and push it into HDF5 file (with 'write' mode). This process is also slow."
   ]
  },
  {
   "cell_type": "code",
   "execution_count": 208,
   "metadata": {},
   "outputs": [],
   "source": [
    "HMDA = pd.read_csv('hmda_lar-2012.csv', dtype=float, \\\n",
    "                   usecols=['hud_median_family_income'])\n",
    "HMDA['FIPS'] = FIPS"
   ]
  },
  {
   "cell_type": "code",
   "execution_count": 71,
   "metadata": {},
   "outputs": [
    {
     "data": {
      "text/html": [
       "<div>\n",
       "<style>\n",
       "    .dataframe thead tr:only-child th {\n",
       "        text-align: right;\n",
       "    }\n",
       "\n",
       "    .dataframe thead th {\n",
       "        text-align: left;\n",
       "    }\n",
       "\n",
       "    .dataframe tbody tr th {\n",
       "        vertical-align: top;\n",
       "    }\n",
       "</style>\n",
       "<table border=\"1\" class=\"dataframe\">\n",
       "  <thead>\n",
       "    <tr style=\"text-align: right;\">\n",
       "      <th></th>\n",
       "      <th>hud_median_family_income</th>\n",
       "    </tr>\n",
       "    <tr>\n",
       "      <th>FIPS</th>\n",
       "      <th></th>\n",
       "    </tr>\n",
       "  </thead>\n",
       "  <tbody>\n",
       "    <tr>\n",
       "      <th>1001.0</th>\n",
       "      <td>60100.0</td>\n",
       "    </tr>\n",
       "    <tr>\n",
       "      <th>1003.0</th>\n",
       "      <td>47600.0</td>\n",
       "    </tr>\n",
       "    <tr>\n",
       "      <th>1005.0</th>\n",
       "      <td>47600.0</td>\n",
       "    </tr>\n",
       "    <tr>\n",
       "      <th>1007.0</th>\n",
       "      <td>62800.0</td>\n",
       "    </tr>\n",
       "    <tr>\n",
       "      <th>1009.0</th>\n",
       "      <td>62800.0</td>\n",
       "    </tr>\n",
       "  </tbody>\n",
       "</table>\n",
       "</div>"
      ],
      "text/plain": [
       "        hud_median_family_income\n",
       "FIPS                            \n",
       "1001.0                   60100.0\n",
       "1003.0                   47600.0\n",
       "1005.0                   47600.0\n",
       "1007.0                   62800.0\n",
       "1009.0                   62800.0"
      ]
     },
     "execution_count": 71,
     "metadata": {},
     "output_type": "execute_result"
    }
   ],
   "source": [
    "df_statecnty_stats = HMDA.groupby('FIPS')['hud_median_family_income'].median().to_frame()\n",
    "df_statecnty_stats.head()"
   ]
  },
  {
   "cell_type": "markdown",
   "metadata": {},
   "source": [
    "**Step 3:** Calculate median_inc, mean_inc, std_inc.\n",
    "\n",
    "**Note:** FIPS is used as index."
   ]
  },
  {
   "cell_type": "code",
   "execution_count": 209,
   "metadata": {},
   "outputs": [],
   "source": [
    "HMDA = pd.read_csv('hmda_lar-2012.csv', dtype=float, \\\n",
    "                   usecols=['applicant_income_000s'])\n",
    "HMDA['FIPS'] = FIPS"
   ]
  },
  {
   "cell_type": "code",
   "execution_count": 210,
   "metadata": {},
   "outputs": [],
   "source": [
    "df_statecnty_stats['median_inc'] = \\\n",
    "HMDA.groupby('FIPS')['applicant_income_000s'].median().to_frame()"
   ]
  },
  {
   "cell_type": "code",
   "execution_count": 77,
   "metadata": {
    "collapsed": true
   },
   "outputs": [],
   "source": [
    "df_statecnty_stats['mean_inc'] = \\\n",
    "HMDA.groupby('FIPS')['applicant_income_000s'].mean().to_frame()*1000"
   ]
  },
  {
   "cell_type": "code",
   "execution_count": 78,
   "metadata": {
    "collapsed": true
   },
   "outputs": [],
   "source": [
    "df_statecnty_stats['std_inc'] = \\\n",
    "HMDA.groupby('FIPS')['applicant_income_000s'].std().to_frame()"
   ]
  },
  {
   "cell_type": "code",
   "execution_count": 79,
   "metadata": {},
   "outputs": [
    {
     "data": {
      "text/html": [
       "<div>\n",
       "<style>\n",
       "    .dataframe thead tr:only-child th {\n",
       "        text-align: right;\n",
       "    }\n",
       "\n",
       "    .dataframe thead th {\n",
       "        text-align: left;\n",
       "    }\n",
       "\n",
       "    .dataframe tbody tr th {\n",
       "        vertical-align: top;\n",
       "    }\n",
       "</style>\n",
       "<table border=\"1\" class=\"dataframe\">\n",
       "  <thead>\n",
       "    <tr style=\"text-align: right;\">\n",
       "      <th></th>\n",
       "      <th>hud_median_family_income</th>\n",
       "      <th>median_inc</th>\n",
       "      <th>mean_inc</th>\n",
       "      <th>std_inc</th>\n",
       "    </tr>\n",
       "    <tr>\n",
       "      <th>FIPS</th>\n",
       "      <th></th>\n",
       "      <th></th>\n",
       "      <th></th>\n",
       "      <th></th>\n",
       "    </tr>\n",
       "  </thead>\n",
       "  <tbody>\n",
       "    <tr>\n",
       "      <th>1001.0</th>\n",
       "      <td>60100.0</td>\n",
       "      <td>62.0</td>\n",
       "      <td>73.812070</td>\n",
       "      <td>51.222430</td>\n",
       "    </tr>\n",
       "    <tr>\n",
       "      <th>1003.0</th>\n",
       "      <td>47600.0</td>\n",
       "      <td>75.0</td>\n",
       "      <td>115.401952</td>\n",
       "      <td>170.518287</td>\n",
       "    </tr>\n",
       "    <tr>\n",
       "      <th>1005.0</th>\n",
       "      <td>47600.0</td>\n",
       "      <td>54.0</td>\n",
       "      <td>67.761468</td>\n",
       "      <td>53.990961</td>\n",
       "    </tr>\n",
       "    <tr>\n",
       "      <th>1007.0</th>\n",
       "      <td>62800.0</td>\n",
       "      <td>51.0</td>\n",
       "      <td>58.196023</td>\n",
       "      <td>34.825044</td>\n",
       "    </tr>\n",
       "    <tr>\n",
       "      <th>1009.0</th>\n",
       "      <td>62800.0</td>\n",
       "      <td>52.0</td>\n",
       "      <td>63.651608</td>\n",
       "      <td>54.360743</td>\n",
       "    </tr>\n",
       "  </tbody>\n",
       "</table>\n",
       "</div>"
      ],
      "text/plain": [
       "        hud_median_family_income  median_inc    mean_inc     std_inc\n",
       "FIPS                                                                \n",
       "1001.0                   60100.0        62.0   73.812070   51.222430\n",
       "1003.0                   47600.0        75.0  115.401952  170.518287\n",
       "1005.0                   47600.0        54.0   67.761468   53.990961\n",
       "1007.0                   62800.0        51.0   58.196023   34.825044\n",
       "1009.0                   62800.0        52.0   63.651608   54.360743"
      ]
     },
     "execution_count": 79,
     "metadata": {},
     "output_type": "execute_result"
    }
   ],
   "source": [
    "df_statecnty_stats.head()"
   ]
  },
  {
   "cell_type": "markdown",
   "metadata": {},
   "source": [
    "**Step 4:** Calculate mean_loan_to_inc, mean_income_over_hud."
   ]
  },
  {
   "cell_type": "code",
   "execution_count": 80,
   "metadata": {
    "collapsed": true
   },
   "outputs": [],
   "source": [
    "HMDA = pd.read_csv('hmda_lar-2012.csv', dtype=float, \\\n",
    "                   usecols=['loan_amount_000s','applicant_income_000s','hud_median_family_income'])\n",
    "HMDA['FIPS'] = FIPS"
   ]
  },
  {
   "cell_type": "code",
   "execution_count": 81,
   "metadata": {
    "collapsed": true
   },
   "outputs": [],
   "source": [
    "HMDA['loan_to_inc'] = HMDA['loan_amount_000s'].divide(HMDA['applicant_income_000s'])\n",
    "HMDA['income_over_hud'] = HMDA['applicant_income_000s'].divide(HMDA['hud_median_family_income'])*1000.0"
   ]
  },
  {
   "cell_type": "code",
   "execution_count": 82,
   "metadata": {
    "collapsed": true
   },
   "outputs": [],
   "source": [
    "df_statecnty_stats['mean_loan_to_inc']=\\\n",
    "HMDA.groupby('FIPS')['loan_to_inc'].mean().to_frame()"
   ]
  },
  {
   "cell_type": "code",
   "execution_count": 83,
   "metadata": {
    "collapsed": true
   },
   "outputs": [],
   "source": [
    "df_statecnty_stats['mean_income_over_hud']=\\\n",
    "HMDA.groupby('FIPS')['income_over_hud'].mean().to_frame()"
   ]
  },
  {
   "cell_type": "code",
   "execution_count": 84,
   "metadata": {},
   "outputs": [
    {
     "data": {
      "text/html": [
       "<div>\n",
       "<style>\n",
       "    .dataframe thead tr:only-child th {\n",
       "        text-align: right;\n",
       "    }\n",
       "\n",
       "    .dataframe thead th {\n",
       "        text-align: left;\n",
       "    }\n",
       "\n",
       "    .dataframe tbody tr th {\n",
       "        vertical-align: top;\n",
       "    }\n",
       "</style>\n",
       "<table border=\"1\" class=\"dataframe\">\n",
       "  <thead>\n",
       "    <tr style=\"text-align: right;\">\n",
       "      <th></th>\n",
       "      <th>hud_median_family_income</th>\n",
       "      <th>median_inc</th>\n",
       "      <th>mean_inc</th>\n",
       "      <th>std_inc</th>\n",
       "      <th>mean_loan_to_inc</th>\n",
       "      <th>mean_income_over_hud</th>\n",
       "    </tr>\n",
       "    <tr>\n",
       "      <th>FIPS</th>\n",
       "      <th></th>\n",
       "      <th></th>\n",
       "      <th></th>\n",
       "      <th></th>\n",
       "      <th></th>\n",
       "      <th></th>\n",
       "    </tr>\n",
       "  </thead>\n",
       "  <tbody>\n",
       "    <tr>\n",
       "      <th>1001.0</th>\n",
       "      <td>60100.0</td>\n",
       "      <td>62.0</td>\n",
       "      <td>73.812070</td>\n",
       "      <td>51.222430</td>\n",
       "      <td>2.203546</td>\n",
       "      <td>1.228430</td>\n",
       "    </tr>\n",
       "    <tr>\n",
       "      <th>1003.0</th>\n",
       "      <td>47600.0</td>\n",
       "      <td>75.0</td>\n",
       "      <td>115.401952</td>\n",
       "      <td>170.518287</td>\n",
       "      <td>2.285931</td>\n",
       "      <td>2.447498</td>\n",
       "    </tr>\n",
       "    <tr>\n",
       "      <th>1005.0</th>\n",
       "      <td>47600.0</td>\n",
       "      <td>54.0</td>\n",
       "      <td>67.761468</td>\n",
       "      <td>53.990961</td>\n",
       "      <td>2.043891</td>\n",
       "      <td>1.478975</td>\n",
       "    </tr>\n",
       "    <tr>\n",
       "      <th>1007.0</th>\n",
       "      <td>62800.0</td>\n",
       "      <td>51.0</td>\n",
       "      <td>58.196023</td>\n",
       "      <td>34.825044</td>\n",
       "      <td>1.965309</td>\n",
       "      <td>0.926688</td>\n",
       "    </tr>\n",
       "    <tr>\n",
       "      <th>1009.0</th>\n",
       "      <td>62800.0</td>\n",
       "      <td>52.0</td>\n",
       "      <td>63.651608</td>\n",
       "      <td>54.360743</td>\n",
       "      <td>2.094035</td>\n",
       "      <td>1.014303</td>\n",
       "    </tr>\n",
       "  </tbody>\n",
       "</table>\n",
       "</div>"
      ],
      "text/plain": [
       "        hud_median_family_income  median_inc    mean_inc     std_inc  \\\n",
       "FIPS                                                                   \n",
       "1001.0                   60100.0        62.0   73.812070   51.222430   \n",
       "1003.0                   47600.0        75.0  115.401952  170.518287   \n",
       "1005.0                   47600.0        54.0   67.761468   53.990961   \n",
       "1007.0                   62800.0        51.0   58.196023   34.825044   \n",
       "1009.0                   62800.0        52.0   63.651608   54.360743   \n",
       "\n",
       "        mean_loan_to_inc  mean_income_over_hud  \n",
       "FIPS                                            \n",
       "1001.0          2.203546              1.228430  \n",
       "1003.0          2.285931              2.447498  \n",
       "1005.0          2.043891              1.478975  \n",
       "1007.0          1.965309              0.926688  \n",
       "1009.0          2.094035              1.014303  "
      ]
     },
     "execution_count": 84,
     "metadata": {},
     "output_type": "execute_result"
    }
   ],
   "source": [
    "df_statecnty_stats.head()"
   ]
  },
  {
   "cell_type": "markdown",
   "metadata": {},
   "source": [
    "**Step 5:** Calculate pct_denied_apps."
   ]
  },
  {
   "cell_type": "code",
   "execution_count": 85,
   "metadata": {
    "collapsed": true
   },
   "outputs": [],
   "source": [
    "HMDA = pd.read_csv('hmda_lar-2012.csv', dtype=object, \\\n",
    "                   usecols=['action_taken','action_taken_name'])\n",
    "HMDA['FIPS'] = FIPS"
   ]
  },
  {
   "cell_type": "markdown",
   "metadata": {},
   "source": [
    "Create DUMMY for denied applicants."
   ]
  },
  {
   "cell_type": "code",
   "execution_count": 86,
   "metadata": {
    "collapsed": true
   },
   "outputs": [],
   "source": [
    "dummy = pd.get_dummies(HMDA['action_taken_name'])\n",
    "HMDA['DUMMY_denied'] = dummy['Application denied by financial institution']"
   ]
  },
  {
   "cell_type": "code",
   "execution_count": 87,
   "metadata": {
    "collapsed": true
   },
   "outputs": [],
   "source": [
    "df_statecnty_stats['pct_denied_apps']=\\\n",
    "HMDA.groupby('FIPS')['DUMMY_denied'].sum().divide(HMDA.groupby('FIPS')['DUMMY_denied'].count()).to_frame()"
   ]
  },
  {
   "cell_type": "code",
   "execution_count": 88,
   "metadata": {},
   "outputs": [
    {
     "data": {
      "text/html": [
       "<div>\n",
       "<style>\n",
       "    .dataframe thead tr:only-child th {\n",
       "        text-align: right;\n",
       "    }\n",
       "\n",
       "    .dataframe thead th {\n",
       "        text-align: left;\n",
       "    }\n",
       "\n",
       "    .dataframe tbody tr th {\n",
       "        vertical-align: top;\n",
       "    }\n",
       "</style>\n",
       "<table border=\"1\" class=\"dataframe\">\n",
       "  <thead>\n",
       "    <tr style=\"text-align: right;\">\n",
       "      <th></th>\n",
       "      <th>hud_median_family_income</th>\n",
       "      <th>median_inc</th>\n",
       "      <th>mean_inc</th>\n",
       "      <th>std_inc</th>\n",
       "      <th>mean_loan_to_inc</th>\n",
       "      <th>mean_income_over_hud</th>\n",
       "      <th>pct_denied_apps</th>\n",
       "    </tr>\n",
       "    <tr>\n",
       "      <th>FIPS</th>\n",
       "      <th></th>\n",
       "      <th></th>\n",
       "      <th></th>\n",
       "      <th></th>\n",
       "      <th></th>\n",
       "      <th></th>\n",
       "      <th></th>\n",
       "    </tr>\n",
       "  </thead>\n",
       "  <tbody>\n",
       "    <tr>\n",
       "      <th>1001.0</th>\n",
       "      <td>60100.0</td>\n",
       "      <td>62.0</td>\n",
       "      <td>73.812070</td>\n",
       "      <td>51.222430</td>\n",
       "      <td>2.203546</td>\n",
       "      <td>1.228430</td>\n",
       "      <td>0.160507</td>\n",
       "    </tr>\n",
       "    <tr>\n",
       "      <th>1003.0</th>\n",
       "      <td>47600.0</td>\n",
       "      <td>75.0</td>\n",
       "      <td>115.401952</td>\n",
       "      <td>170.518287</td>\n",
       "      <td>2.285931</td>\n",
       "      <td>2.447498</td>\n",
       "      <td>0.172720</td>\n",
       "    </tr>\n",
       "    <tr>\n",
       "      <th>1005.0</th>\n",
       "      <td>47600.0</td>\n",
       "      <td>54.0</td>\n",
       "      <td>67.761468</td>\n",
       "      <td>53.990961</td>\n",
       "      <td>2.043891</td>\n",
       "      <td>1.478975</td>\n",
       "      <td>0.280066</td>\n",
       "    </tr>\n",
       "    <tr>\n",
       "      <th>1007.0</th>\n",
       "      <td>62800.0</td>\n",
       "      <td>51.0</td>\n",
       "      <td>58.196023</td>\n",
       "      <td>34.825044</td>\n",
       "      <td>1.965309</td>\n",
       "      <td>0.926688</td>\n",
       "      <td>0.293742</td>\n",
       "    </tr>\n",
       "    <tr>\n",
       "      <th>1009.0</th>\n",
       "      <td>62800.0</td>\n",
       "      <td>52.0</td>\n",
       "      <td>63.651608</td>\n",
       "      <td>54.360743</td>\n",
       "      <td>2.094035</td>\n",
       "      <td>1.014303</td>\n",
       "      <td>0.199390</td>\n",
       "    </tr>\n",
       "  </tbody>\n",
       "</table>\n",
       "</div>"
      ],
      "text/plain": [
       "        hud_median_family_income  median_inc    mean_inc     std_inc  \\\n",
       "FIPS                                                                   \n",
       "1001.0                   60100.0        62.0   73.812070   51.222430   \n",
       "1003.0                   47600.0        75.0  115.401952  170.518287   \n",
       "1005.0                   47600.0        54.0   67.761468   53.990961   \n",
       "1007.0                   62800.0        51.0   58.196023   34.825044   \n",
       "1009.0                   62800.0        52.0   63.651608   54.360743   \n",
       "\n",
       "        mean_loan_to_inc  mean_income_over_hud  pct_denied_apps  \n",
       "FIPS                                                             \n",
       "1001.0          2.203546              1.228430         0.160507  \n",
       "1003.0          2.285931              2.447498         0.172720  \n",
       "1005.0          2.043891              1.478975         0.280066  \n",
       "1007.0          1.965309              0.926688         0.293742  \n",
       "1009.0          2.094035              1.014303         0.199390  "
      ]
     },
     "execution_count": 88,
     "metadata": {},
     "output_type": "execute_result"
    }
   ],
   "source": [
    "df_statecnty_stats.head()"
   ]
  },
  {
   "cell_type": "markdown",
   "metadata": {},
   "source": [
    "**Step 6:** Calculate pct_rentals."
   ]
  },
  {
   "cell_type": "code",
   "execution_count": 90,
   "metadata": {
    "collapsed": true
   },
   "outputs": [],
   "source": [
    "HMDA = pd.read_csv('hmda_lar-2012.csv', dtype=object, \\\n",
    "                   usecols=['owner_occupancy_name'])\n",
    "HMDA['FIPS'] = FIPS"
   ]
  },
  {
   "cell_type": "code",
   "execution_count": 93,
   "metadata": {},
   "outputs": [],
   "source": [
    "dummy = pd.get_dummies(HMDA['owner_occupancy_name'])\n",
    "HMDA['DUMMY_rentals'] = dummy['Not owner-occupied as a principal dwelling']"
   ]
  },
  {
   "cell_type": "code",
   "execution_count": 94,
   "metadata": {
    "collapsed": true
   },
   "outputs": [],
   "source": [
    "df_statecnty_stats['pct_rentals']=\\\n",
    "HMDA.groupby('FIPS')['DUMMY_rentals'].sum().divide(HMDA.groupby('FIPS')['DUMMY_rentals'].count()).to_frame()"
   ]
  },
  {
   "cell_type": "code",
   "execution_count": 95,
   "metadata": {},
   "outputs": [
    {
     "data": {
      "text/html": [
       "<div>\n",
       "<style>\n",
       "    .dataframe thead tr:only-child th {\n",
       "        text-align: right;\n",
       "    }\n",
       "\n",
       "    .dataframe thead th {\n",
       "        text-align: left;\n",
       "    }\n",
       "\n",
       "    .dataframe tbody tr th {\n",
       "        vertical-align: top;\n",
       "    }\n",
       "</style>\n",
       "<table border=\"1\" class=\"dataframe\">\n",
       "  <thead>\n",
       "    <tr style=\"text-align: right;\">\n",
       "      <th></th>\n",
       "      <th>hud_median_family_income</th>\n",
       "      <th>median_inc</th>\n",
       "      <th>mean_inc</th>\n",
       "      <th>std_inc</th>\n",
       "      <th>mean_loan_to_inc</th>\n",
       "      <th>mean_income_over_hud</th>\n",
       "      <th>pct_denied_apps</th>\n",
       "      <th>pct_rentals</th>\n",
       "    </tr>\n",
       "    <tr>\n",
       "      <th>FIPS</th>\n",
       "      <th></th>\n",
       "      <th></th>\n",
       "      <th></th>\n",
       "      <th></th>\n",
       "      <th></th>\n",
       "      <th></th>\n",
       "      <th></th>\n",
       "      <th></th>\n",
       "    </tr>\n",
       "  </thead>\n",
       "  <tbody>\n",
       "    <tr>\n",
       "      <th>1001.0</th>\n",
       "      <td>60100.0</td>\n",
       "      <td>62.0</td>\n",
       "      <td>73.812070</td>\n",
       "      <td>51.222430</td>\n",
       "      <td>2.203546</td>\n",
       "      <td>1.228430</td>\n",
       "      <td>0.160507</td>\n",
       "      <td>0.078141</td>\n",
       "    </tr>\n",
       "    <tr>\n",
       "      <th>1003.0</th>\n",
       "      <td>47600.0</td>\n",
       "      <td>75.0</td>\n",
       "      <td>115.401952</td>\n",
       "      <td>170.518287</td>\n",
       "      <td>2.285931</td>\n",
       "      <td>2.447498</td>\n",
       "      <td>0.172720</td>\n",
       "      <td>0.235927</td>\n",
       "    </tr>\n",
       "    <tr>\n",
       "      <th>1005.0</th>\n",
       "      <td>47600.0</td>\n",
       "      <td>54.0</td>\n",
       "      <td>67.761468</td>\n",
       "      <td>53.990961</td>\n",
       "      <td>2.043891</td>\n",
       "      <td>1.478975</td>\n",
       "      <td>0.280066</td>\n",
       "      <td>0.095552</td>\n",
       "    </tr>\n",
       "    <tr>\n",
       "      <th>1007.0</th>\n",
       "      <td>62800.0</td>\n",
       "      <td>51.0</td>\n",
       "      <td>58.196023</td>\n",
       "      <td>34.825044</td>\n",
       "      <td>1.965309</td>\n",
       "      <td>0.926688</td>\n",
       "      <td>0.293742</td>\n",
       "      <td>0.045977</td>\n",
       "    </tr>\n",
       "    <tr>\n",
       "      <th>1009.0</th>\n",
       "      <td>62800.0</td>\n",
       "      <td>52.0</td>\n",
       "      <td>63.651608</td>\n",
       "      <td>54.360743</td>\n",
       "      <td>2.094035</td>\n",
       "      <td>1.014303</td>\n",
       "      <td>0.199390</td>\n",
       "      <td>0.049169</td>\n",
       "    </tr>\n",
       "  </tbody>\n",
       "</table>\n",
       "</div>"
      ],
      "text/plain": [
       "        hud_median_family_income  median_inc    mean_inc     std_inc  \\\n",
       "FIPS                                                                   \n",
       "1001.0                   60100.0        62.0   73.812070   51.222430   \n",
       "1003.0                   47600.0        75.0  115.401952  170.518287   \n",
       "1005.0                   47600.0        54.0   67.761468   53.990961   \n",
       "1007.0                   62800.0        51.0   58.196023   34.825044   \n",
       "1009.0                   62800.0        52.0   63.651608   54.360743   \n",
       "\n",
       "        mean_loan_to_inc  mean_income_over_hud  pct_denied_apps  pct_rentals  \n",
       "FIPS                                                                          \n",
       "1001.0          2.203546              1.228430         0.160507     0.078141  \n",
       "1003.0          2.285931              2.447498         0.172720     0.235927  \n",
       "1005.0          2.043891              1.478975         0.280066     0.095552  \n",
       "1007.0          1.965309              0.926688         0.293742     0.045977  \n",
       "1009.0          2.094035              1.014303         0.199390     0.049169  "
      ]
     },
     "execution_count": 95,
     "metadata": {},
     "output_type": "execute_result"
    }
   ],
   "source": [
    "df_statecnty_stats.head()"
   ]
  },
  {
   "cell_type": "markdown",
   "metadata": {},
   "source": [
    "**Step 7:** Calculate pct_minority, ln_pop."
   ]
  },
  {
   "cell_type": "code",
   "execution_count": 107,
   "metadata": {
    "collapsed": true
   },
   "outputs": [],
   "source": [
    "HMDA = pd.read_csv('hmda_lar-2012.csv', dtype=float, \\\n",
    "                   usecols=['minority_population','population', 'census_tract_number'])\n",
    "HMDA['FIPS'] = FIPS"
   ]
  },
  {
   "cell_type": "markdown",
   "metadata": {},
   "source": [
    "**Note:**\n",
    "- The 'census_tract_number' column is the number of the census tract for the property. This code is only unique when combined with the state and county codes.\n",
    "- The 'population' column is the total population in the tract.\n",
    "- The 'minority_population' column is the percentage of minority population to total population for the census tract, carried to two decimal places.\n",
    "\n",
    "**Thus,**\n",
    "- county population = sum(popoulation of unique(census tract of the county))\n",
    "- percent minority population of the county = sum over census tract(pct of minority of census tract * population of census tract)/county population"
   ]
  },
  {
   "cell_type": "markdown",
   "metadata": {},
   "source": [
    "First we get the popoulation of each census tract.\n",
    "- Note that the popuplation and FIPS+census_tract_number are one-on-one.\n",
    "(check .std() == 0)\n",
    "- Thus we could directly use .mean() after groupby."
   ]
  },
  {
   "cell_type": "markdown",
   "metadata": {},
   "source": [
    "Calculate census_minority = round(minority_population * census_population / 100)."
   ]
  },
  {
   "cell_type": "code",
   "execution_count": 168,
   "metadata": {},
   "outputs": [],
   "source": [
    "census_minority = HMDA.groupby(['FIPS','census_tract_number'])['minority_population','population'].mean()"
   ]
  },
  {
   "cell_type": "code",
   "execution_count": 169,
   "metadata": {},
   "outputs": [],
   "source": [
    "census_minority['min_pop'] = census_minority['minority_population'].multiply(census_minority['population']).\\\n",
    "divide(100.0).round().to_frame()"
   ]
  },
  {
   "cell_type": "code",
   "execution_count": 170,
   "metadata": {},
   "outputs": [
    {
     "data": {
      "text/html": [
       "<div>\n",
       "<style>\n",
       "    .dataframe thead tr:only-child th {\n",
       "        text-align: right;\n",
       "    }\n",
       "\n",
       "    .dataframe thead th {\n",
       "        text-align: left;\n",
       "    }\n",
       "\n",
       "    .dataframe tbody tr th {\n",
       "        vertical-align: top;\n",
       "    }\n",
       "</style>\n",
       "<table border=\"1\" class=\"dataframe\">\n",
       "  <thead>\n",
       "    <tr style=\"text-align: right;\">\n",
       "      <th></th>\n",
       "      <th></th>\n",
       "      <th>minority_population</th>\n",
       "      <th>population</th>\n",
       "      <th>min_pop</th>\n",
       "    </tr>\n",
       "    <tr>\n",
       "      <th>FIPS</th>\n",
       "      <th>census_tract_number</th>\n",
       "      <th></th>\n",
       "      <th></th>\n",
       "      <th></th>\n",
       "    </tr>\n",
       "  </thead>\n",
       "  <tbody>\n",
       "    <tr>\n",
       "      <th rowspan=\"5\" valign=\"top\">1001.0</th>\n",
       "      <th>201.0</th>\n",
       "      <td>16.270000</td>\n",
       "      <td>1912.0</td>\n",
       "      <td>311.0</td>\n",
       "    </tr>\n",
       "    <tr>\n",
       "      <th>202.0</th>\n",
       "      <td>61.110001</td>\n",
       "      <td>2170.0</td>\n",
       "      <td>1326.0</td>\n",
       "    </tr>\n",
       "    <tr>\n",
       "      <th>203.0</th>\n",
       "      <td>24.760000</td>\n",
       "      <td>3373.0</td>\n",
       "      <td>835.0</td>\n",
       "    </tr>\n",
       "    <tr>\n",
       "      <th>204.0</th>\n",
       "      <td>8.120000</td>\n",
       "      <td>4386.0</td>\n",
       "      <td>356.0</td>\n",
       "    </tr>\n",
       "    <tr>\n",
       "      <th>205.0</th>\n",
       "      <td>21.620001</td>\n",
       "      <td>10766.0</td>\n",
       "      <td>2328.0</td>\n",
       "    </tr>\n",
       "  </tbody>\n",
       "</table>\n",
       "</div>"
      ],
      "text/plain": [
       "                            minority_population  population  min_pop\n",
       "FIPS   census_tract_number                                          \n",
       "1001.0 201.0                          16.270000      1912.0    311.0\n",
       "       202.0                          61.110001      2170.0   1326.0\n",
       "       203.0                          24.760000      3373.0    835.0\n",
       "       204.0                           8.120000      4386.0    356.0\n",
       "       205.0                          21.620001     10766.0   2328.0"
      ]
     },
     "execution_count": 170,
     "metadata": {},
     "output_type": "execute_result"
    }
   ],
   "source": [
    "census_minority.head()"
   ]
  },
  {
   "cell_type": "markdown",
   "metadata": {},
   "source": [
    "Aggregate to county level."
   ]
  },
  {
   "cell_type": "code",
   "execution_count": 175,
   "metadata": {},
   "outputs": [
    {
     "data": {
      "text/html": [
       "<div>\n",
       "<style>\n",
       "    .dataframe thead tr:only-child th {\n",
       "        text-align: right;\n",
       "    }\n",
       "\n",
       "    .dataframe thead th {\n",
       "        text-align: left;\n",
       "    }\n",
       "\n",
       "    .dataframe tbody tr th {\n",
       "        vertical-align: top;\n",
       "    }\n",
       "</style>\n",
       "<table border=\"1\" class=\"dataframe\">\n",
       "  <thead>\n",
       "    <tr style=\"text-align: right;\">\n",
       "      <th></th>\n",
       "      <th>population</th>\n",
       "      <th>min_pop</th>\n",
       "    </tr>\n",
       "    <tr>\n",
       "      <th>FIPS</th>\n",
       "      <th></th>\n",
       "      <th></th>\n",
       "    </tr>\n",
       "  </thead>\n",
       "  <tbody>\n",
       "    <tr>\n",
       "      <th>1001.0</th>\n",
       "      <td>54571.0</td>\n",
       "      <td>12417.0</td>\n",
       "    </tr>\n",
       "    <tr>\n",
       "      <th>1003.0</th>\n",
       "      <td>182265.0</td>\n",
       "      <td>30065.0</td>\n",
       "    </tr>\n",
       "    <tr>\n",
       "      <th>1005.0</th>\n",
       "      <td>27457.0</td>\n",
       "      <td>14620.0</td>\n",
       "    </tr>\n",
       "    <tr>\n",
       "      <th>1007.0</th>\n",
       "      <td>22915.0</td>\n",
       "      <td>5724.0</td>\n",
       "    </tr>\n",
       "    <tr>\n",
       "      <th>1009.0</th>\n",
       "      <td>57322.0</td>\n",
       "      <td>6370.0</td>\n",
       "    </tr>\n",
       "  </tbody>\n",
       "</table>\n",
       "</div>"
      ],
      "text/plain": [
       "        population  min_pop\n",
       "FIPS                       \n",
       "1001.0     54571.0  12417.0\n",
       "1003.0    182265.0  30065.0\n",
       "1005.0     27457.0  14620.0\n",
       "1007.0     22915.0   5724.0\n",
       "1009.0     57322.0   6370.0"
      ]
     },
     "execution_count": 175,
     "metadata": {},
     "output_type": "execute_result"
    }
   ],
   "source": [
    "county_data = census_minority.groupby(level=0)['population','min_pop'].sum()\n",
    "county_data.head()"
   ]
  },
  {
   "cell_type": "code",
   "execution_count": 176,
   "metadata": {
    "collapsed": true
   },
   "outputs": [],
   "source": [
    "df_statecnty_stats['pct_minority'] = county_data['min_pop'].divide(county_data['population'])"
   ]
  },
  {
   "cell_type": "code",
   "execution_count": 177,
   "metadata": {
    "collapsed": true
   },
   "outputs": [],
   "source": [
    "df_statecnty_stats['ln_pop'] = np.log(county_data['population'])"
   ]
  },
  {
   "cell_type": "code",
   "execution_count": 178,
   "metadata": {},
   "outputs": [
    {
     "data": {
      "text/html": [
       "<div>\n",
       "<style>\n",
       "    .dataframe thead tr:only-child th {\n",
       "        text-align: right;\n",
       "    }\n",
       "\n",
       "    .dataframe thead th {\n",
       "        text-align: left;\n",
       "    }\n",
       "\n",
       "    .dataframe tbody tr th {\n",
       "        vertical-align: top;\n",
       "    }\n",
       "</style>\n",
       "<table border=\"1\" class=\"dataframe\">\n",
       "  <thead>\n",
       "    <tr style=\"text-align: right;\">\n",
       "      <th></th>\n",
       "      <th>hud_median_family_income</th>\n",
       "      <th>median_inc</th>\n",
       "      <th>mean_inc</th>\n",
       "      <th>std_inc</th>\n",
       "      <th>mean_loan_to_inc</th>\n",
       "      <th>mean_income_over_hud</th>\n",
       "      <th>pct_denied_apps</th>\n",
       "      <th>pct_rentals</th>\n",
       "      <th>ln_pop</th>\n",
       "      <th>pct_minority</th>\n",
       "    </tr>\n",
       "    <tr>\n",
       "      <th>FIPS</th>\n",
       "      <th></th>\n",
       "      <th></th>\n",
       "      <th></th>\n",
       "      <th></th>\n",
       "      <th></th>\n",
       "      <th></th>\n",
       "      <th></th>\n",
       "      <th></th>\n",
       "      <th></th>\n",
       "      <th></th>\n",
       "    </tr>\n",
       "  </thead>\n",
       "  <tbody>\n",
       "    <tr>\n",
       "      <th>1001.0</th>\n",
       "      <td>60100.0</td>\n",
       "      <td>62.0</td>\n",
       "      <td>73.812070</td>\n",
       "      <td>51.222430</td>\n",
       "      <td>2.203546</td>\n",
       "      <td>1.228430</td>\n",
       "      <td>0.160507</td>\n",
       "      <td>0.078141</td>\n",
       "      <td>10.907258</td>\n",
       "      <td>0.227538</td>\n",
       "    </tr>\n",
       "    <tr>\n",
       "      <th>1003.0</th>\n",
       "      <td>47600.0</td>\n",
       "      <td>75.0</td>\n",
       "      <td>115.401952</td>\n",
       "      <td>170.518287</td>\n",
       "      <td>2.285931</td>\n",
       "      <td>2.447498</td>\n",
       "      <td>0.172720</td>\n",
       "      <td>0.235927</td>\n",
       "      <td>12.113217</td>\n",
       "      <td>0.164952</td>\n",
       "    </tr>\n",
       "    <tr>\n",
       "      <th>1005.0</th>\n",
       "      <td>47600.0</td>\n",
       "      <td>54.0</td>\n",
       "      <td>67.761468</td>\n",
       "      <td>53.990961</td>\n",
       "      <td>2.043891</td>\n",
       "      <td>1.478975</td>\n",
       "      <td>0.280066</td>\n",
       "      <td>0.095552</td>\n",
       "      <td>10.220376</td>\n",
       "      <td>0.532469</td>\n",
       "    </tr>\n",
       "    <tr>\n",
       "      <th>1007.0</th>\n",
       "      <td>62800.0</td>\n",
       "      <td>51.0</td>\n",
       "      <td>58.196023</td>\n",
       "      <td>34.825044</td>\n",
       "      <td>1.965309</td>\n",
       "      <td>0.926688</td>\n",
       "      <td>0.293742</td>\n",
       "      <td>0.045977</td>\n",
       "      <td>10.039547</td>\n",
       "      <td>0.249793</td>\n",
       "    </tr>\n",
       "    <tr>\n",
       "      <th>1009.0</th>\n",
       "      <td>62800.0</td>\n",
       "      <td>52.0</td>\n",
       "      <td>63.651608</td>\n",
       "      <td>54.360743</td>\n",
       "      <td>2.094035</td>\n",
       "      <td>1.014303</td>\n",
       "      <td>0.199390</td>\n",
       "      <td>0.049169</td>\n",
       "      <td>10.956440</td>\n",
       "      <td>0.111127</td>\n",
       "    </tr>\n",
       "  </tbody>\n",
       "</table>\n",
       "</div>"
      ],
      "text/plain": [
       "        hud_median_family_income  median_inc    mean_inc     std_inc  \\\n",
       "FIPS                                                                   \n",
       "1001.0                   60100.0        62.0   73.812070   51.222430   \n",
       "1003.0                   47600.0        75.0  115.401952  170.518287   \n",
       "1005.0                   47600.0        54.0   67.761468   53.990961   \n",
       "1007.0                   62800.0        51.0   58.196023   34.825044   \n",
       "1009.0                   62800.0        52.0   63.651608   54.360743   \n",
       "\n",
       "        mean_loan_to_inc  mean_income_over_hud  pct_denied_apps  pct_rentals  \\\n",
       "FIPS                                                                           \n",
       "1001.0          2.203546              1.228430         0.160507     0.078141   \n",
       "1003.0          2.285931              2.447498         0.172720     0.235927   \n",
       "1005.0          2.043891              1.478975         0.280066     0.095552   \n",
       "1007.0          1.965309              0.926688         0.293742     0.045977   \n",
       "1009.0          2.094035              1.014303         0.199390     0.049169   \n",
       "\n",
       "           ln_pop  pct_minority  \n",
       "FIPS                             \n",
       "1001.0  10.907258      0.227538  \n",
       "1003.0  12.113217      0.164952  \n",
       "1005.0  10.220376      0.532469  \n",
       "1007.0  10.039547      0.249793  \n",
       "1009.0  10.956440      0.111127  "
      ]
     },
     "execution_count": 178,
     "metadata": {},
     "output_type": "execute_result"
    }
   ],
   "source": [
    "df_statecnty_stats.head()"
   ]
  },
  {
   "cell_type": "code",
   "execution_count": 244,
   "metadata": {
    "collapsed": true
   },
   "outputs": [],
   "source": [
    "df_statecnty_stats.to_pickle('df_statecnty_stats.pkl')"
   ]
  },
  {
   "cell_type": "markdown",
   "metadata": {},
   "source": [
    "**Step 8:** Plot mean_inc on a US county map as in Part 1."
   ]
  },
  {
   "cell_type": "code",
   "execution_count": 245,
   "metadata": {},
   "outputs": [
    {
     "data": {
      "application/vnd.jupyter.widget-view+json": {
       "model_id": "4958f6a31e3b41c590a6fd8dc23ac6e8"
      }
     },
     "metadata": {},
     "output_type": "display_data"
    }
   ],
   "source": [
    "map_fig = plt.figure(title='Visulisation of mean_inc on US County Map',\\\n",
    "                     min_width=1300, min_height=800)\n",
    "map_tt = Tooltip(fields=['name','color'], labels=['County Name', 'mean_inc_000s'])\n",
    "\n",
    "map_res = plt.geo(map_data=topo_load('map_data/USCountiesMap.json'), stroke_color='black',\\\n",
    "                  colors={'default_color': 'Black'},\\\n",
    "                  scales={'projection': AlbersUSA(),\\\n",
    "                         'color': ColorScale(colors=['Red','Gray','DeepSkyBlue'])},\\\n",
    "                  color=dict(zip(df_statecnty_stats.index.map(int), df_statecnty_stats['mean_inc'])), tooltip=map_tt)\n",
    "map_fig"
   ]
  },
  {
   "cell_type": "markdown",
   "metadata": {},
   "source": [
    "**Step 9 (Extra Credit):**  Can   you   have   the   user   select   which   column   to   plot   on   the   county   map   via\n",
    "a   Dropdown   ipywidget?"
   ]
  },
  {
   "cell_type": "code",
   "execution_count": 289,
   "metadata": {
    "collapsed": true
   },
   "outputs": [],
   "source": [
    "from ipywidgets import interact"
   ]
  },
  {
   "cell_type": "code",
   "execution_count": 242,
   "metadata": {},
   "outputs": [],
   "source": [
    "cols = list(df_statecnty_stats.columns.values)"
   ]
  },
  {
   "cell_type": "code",
   "execution_count": 290,
   "metadata": {
    "collapsed": true
   },
   "outputs": [],
   "source": [
    "# First we define a figure\n",
    "def map_plot(x):\n",
    "    \n",
    "    map_fig = plt.figure(title='Visulisation of '+x+' on US County Map',\\\n",
    "                         min_width=1300, min_height=800)\n",
    "\n",
    "    map_tt = Tooltip(fields=['name','color'], labels=['County Name', x])\n",
    "\n",
    "    map_res = plt.geo(map_data=topo_load('map_data/USCountiesMap.json'), stroke_color='black',\\\n",
    "                      colors={'default_color': 'Black'},\\\n",
    "                      scales={'projection': AlbersUSA(),\\\n",
    "                             'color': ColorScale(colors=['Red','Gray','DeepSkyBlue'])},\\\n",
    "                      color=dict(zip(df_statecnty_stats.index.map(int), df_statecnty_stats[x])), tooltip=map_tt)\n",
    "    return map_fig"
   ]
  },
  {
   "cell_type": "code",
   "execution_count": 292,
   "metadata": {},
   "outputs": [
    {
     "data": {
      "application/vnd.jupyter.widget-view+json": {
       "model_id": "c03445cdd9f943fc8e0239d5c384d356"
      }
     },
     "metadata": {},
     "output_type": "display_data"
    },
    {
     "data": {
      "text/plain": [
       "<function __main__.map_plot>"
      ]
     },
     "execution_count": 292,
     "metadata": {},
     "output_type": "execute_result"
    }
   ],
   "source": [
    "interact(map_plot, x=cols)"
   ]
  },
  {
   "cell_type": "markdown",
   "metadata": {},
   "source": [
    "**Note:** \n",
    "- Here I used the interact() function, which creates a Dropdown widget directly. \n",
    "- However, on my PC, when we select different colname, the plot doesn't update itself but displays a new one. Similar to this question: https://github.com/jupyter-widgets/ipywidgets/issues/1179, there might be some incompatibility issue between bqplot.pyplot.figure and ipywidgets, or we need another implementation."
   ]
  },
  {
   "cell_type": "markdown",
   "metadata": {},
   "source": [
    "## Appendix: "
   ]
  },
  {
   "cell_type": "markdown",
   "metadata": {},
   "source": [
    "**Read in the csv file chunk by chunk and push it to HDF5 table.**"
   ]
  },
  {
   "cell_type": "markdown",
   "metadata": {},
   "source": [
    "from pandas import HDFStore\n",
    "hdf = HDFStore('storage.h5', mode='w')"
   ]
  },
  {
   "cell_type": "markdown",
   "metadata": {},
   "source": [
    "filename = 'hmda_lar-2012.csv'\n",
    "reader = pd.read_csv(filename, chunksize=10000, dtype=object)\n",
    "for chunk in reader:\n",
    "    chunk['FIPS'] = pd.to_numeric(chunk['state_code'].head(3).str.zfill(2)+\\\n",
    "                                  chunk['county_code'].head(3).str.zfill(3),\\\n",
    "                                  downcast='integer')\n",
    "                                  \n",
    "    hdf.append('HMDA', chunk, format='table', data_columns=['FIPS'])"
   ]
  },
  {
   "cell_type": "markdown",
   "metadata": {
    "collapsed": true
   },
   "source": [
    "hdf.close()"
   ]
  },
  {
   "cell_type": "markdown",
   "metadata": {
    "collapsed": true
   },
   "source": [
    "**Note:** This implementation is not adopted because it's too slow."
   ]
  }
 ],
 "metadata": {
  "kernelspec": {
   "display_name": "Python 3",
   "language": "python",
   "name": "python3"
  },
  "language_info": {
   "codemirror_mode": {
    "name": "ipython",
    "version": 3
   },
   "file_extension": ".py",
   "mimetype": "text/x-python",
   "name": "python",
   "nbconvert_exporter": "python",
   "pygments_lexer": "ipython3",
   "version": "3.5.4"
  }
 },
 "nbformat": 4,
 "nbformat_minor": 2
}
